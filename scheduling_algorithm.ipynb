{
 "cells": [
  {
   "cell_type": "markdown",
   "metadata": {},
   "source": [
    "# Scheduling algorithm for weekly clients\n"
   ]
  },
  {
   "cell_type": "code",
   "execution_count": 23,
   "metadata": {},
   "outputs": [],
   "source": [
    "import json\n",
    "import cpmpy as cp\n",
    "import numpy as np\n",
    "import time\n",
    "\n",
    "import pprint\n",
    "\n",
    "pp = pprint.PrettyPrinter(indent=2)"
   ]
  },
  {
   "cell_type": "code",
   "execution_count": 24,
   "metadata": {},
   "outputs": [],
   "source": [
    "def ttm(time_str):\n",
    "    ts = time_str.split(\":\") if type(time_str) == str else time_str\n",
    "    return int(ts[0]) * 60 + int(ts[1]) if type(time_str) == str else time_str\n",
    "\n",
    "\n",
    "def mtt(minutes):\n",
    "    hours, mins = divmod(minutes, 60)\n",
    "    return f\"{hours:02d}:{mins:02d}\""
   ]
  },
  {
   "cell_type": "code",
   "execution_count": 25,
   "metadata": {},
   "outputs": [],
   "source": [
    "def read_client_data(file_name, working_days):\n",
    "    with open(f\"data/{file_name}\") as file:\n",
    "        data = json.load(file)\n",
    "        clients = [client for client in data.keys()]\n",
    "        duration = [client[\"duration\"] for client in data.values()]\n",
    "        availability = [\n",
    "            [\n",
    "                (\n",
    "                    ttm(\n",
    "                        client[\"availability\"].get(\n",
    "                            day, {\"start_time\": 0, \"end_time\": 0}\n",
    "                        )[\"start_time\"]\n",
    "                    ),\n",
    "                    ttm(\n",
    "                        client[\"availability\"].get(\n",
    "                            day, {\"start_time\": 0, \"end_time\": 0}\n",
    "                        )[\"end_time\"]\n",
    "                    ),\n",
    "                )\n",
    "                for day in working_days\n",
    "            ]\n",
    "            for client in data.values()\n",
    "        ]\n",
    "\n",
    "        return clients, availability, duration\n",
    "\n",
    "\n",
    "working_days = [\"Friday\", \"Saturday\"]\n",
    "file_name = \"clients_list.json\"\n",
    "clients, availability, duration = read_client_data(file_name, working_days)"
   ]
  },
  {
   "cell_type": "code",
   "execution_count": 26,
   "metadata": {},
   "outputs": [],
   "source": [
    "def generate_schedule(clients, availability, duration, working_days, n_scheduled=-1):\n",
    "    min_time = np.min(availability)\n",
    "    max_time = np.max(availability)\n",
    "\n",
    "    scheduled_times = np.array(\n",
    "        [[cp.intvar(min_time, max_time) for _ in clients] for _ in working_days]\n",
    "    )\n",
    "    ind = np.array([cp.boolvar(len(availability)) for _ in working_days])\n",
    "    model = cp.Model()\n",
    "\n",
    "    hole_times = []\n",
    "\n",
    "    for i, client in enumerate(availability):\n",
    "        model += cp.sum(ind[:, i]) <= 1\n",
    "        for d, (start, stop) in enumerate(client):\n",
    "            # basic scheduled or not scheduled filtering\n",
    "            model += (ind[d][i] == 0).implies(scheduled_times[d][i] == 0)\n",
    "            model += (ind[d][i] == 1).implies(\n",
    "                (scheduled_times[d][i] >= start)\n",
    "                & (scheduled_times[d][i] <= stop - duration[i])\n",
    "            )\n",
    "\n",
    "            if start == 0:\n",
    "                model += ind[d][i] == 0\n",
    "\n",
    "            if clients[d][i] in [\"Žan Garantini\", \"Tilen Medved\"]:\n",
    "                model += ind[d][i] == 1\n",
    "\n",
    "            model += (ind[d][i] == 1).implies((scheduled_times[d][i] % 5) == 0)\n",
    "\n",
    "            for j in range(i + 1, len(clients)):\n",
    "                model += ((ind[d][i] == 1) & (ind[d][j] == 1)).implies(\n",
    "                    (scheduled_times[d][i] + duration[i] <= scheduled_times[d][j])\n",
    "                    | (scheduled_times[d][j] + duration[j] <= scheduled_times[d][i])\n",
    "                )\n",
    "\n",
    "        LV = 24 * 60\n",
    "        min_time = cp.min(scheduled_times[d] * ind[d] + (1 - ind[d]) * LV)\n",
    "        max_time = cp.max((scheduled_times[d] + duration) * ind[d] - (1 - ind[d]) * LV)\n",
    "        hole_time = cp.max([max_time - min_time - cp.sum(ind[d] * duration), 0])\n",
    "        hole_times.append(hole_time)\n",
    "\n",
    "    w_ind = 1\n",
    "    w_h = 0.1\n",
    "    w_e = 0.001\n",
    "\n",
    "    clients_scheduled = cp.sum(ind)\n",
    "\n",
    "    waiting_time = cp.sum(hole_times)\n",
    "\n",
    "    early_start = cp.sum(scheduled_times)\n",
    "\n",
    "    obj = w_ind * clients_scheduled - w_h * waiting_time + w_e * early_start\n",
    "\n",
    "    model.maximize(obj)\n",
    "\n",
    "    return model, scheduled_times, ind, obj"
   ]
  },
  {
   "cell_type": "code",
   "execution_count": 27,
   "metadata": {},
   "outputs": [],
   "source": [
    "def myprint():\n",
    "    print([[time.value() for time in day] for day in scheduled_times])"
   ]
  },
  {
   "cell_type": "code",
   "execution_count": 28,
   "metadata": {},
   "outputs": [],
   "source": [
    "store = []\n",
    "store_ind = []\n",
    "obj_value = -1\n",
    "\n",
    "model, scheduled_times, ind, obj = generate_schedule(\n",
    "    clients, availability, duration, working_days, n_scheduled=8\n",
    ")\n",
    "\n",
    "t_end = time.time() + 300\n",
    "while time.time() < t_end and model.solve():\n",
    "    schedule = [[time.value() for time in day] for day in scheduled_times]\n",
    "    inds = [[item.value() for item in day] for day in ind]\n",
    "    if schedule not in store:\n",
    "        store.append(schedule)\n",
    "        store_ind.append(store_ind)"
   ]
  },
  {
   "cell_type": "code",
   "execution_count": null,
   "metadata": {},
   "outputs": [],
   "source": [
    "def custom_sort(schedule):\n",
    "    friday_start = min(x for x in schedule[0] if x > 0)\n",
    "    saturday_start = min(x for x in schedule[1] if x > 0)\n",
    "\n",
    "    return (friday_start, saturday_start)\n",
    "\n",
    "\n",
    "sorted_schedules = sorted(store, key=custom_sort)\n",
    "\n",
    "\n",
    "with open(\"schedules.txt\", \"w\") as file:\n",
    "    for schedule in sorted_schedules:\n",
    "        for d, day in enumerate(schedule):\n",
    "            for j, time in enumerate(day):\n",
    "                if time != 0:\n",
    "                    file.write(f\"{mtt(time)}: {clients[j]}\\n\")\n",
    "\n",
    "            file.write(\"---\\n\")\n",
    "\n",
    "        file.write(\"------------------------\\n\")"
   ]
  }
 ],
 "metadata": {
  "kernelspec": {
   "display_name": "Python 3",
   "language": "python",
   "name": "python3"
  },
  "language_info": {
   "codemirror_mode": {
    "name": "ipython",
    "version": 3
   },
   "file_extension": ".py",
   "mimetype": "text/x-python",
   "name": "python",
   "nbconvert_exporter": "python",
   "pygments_lexer": "ipython3",
   "version": "3.10.12"
  }
 },
 "nbformat": 4,
 "nbformat_minor": 2
}
